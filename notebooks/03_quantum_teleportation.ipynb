{
 "cells": [
  {
   "cell_type": "markdown",
   "id": "governing-chambers",
   "metadata": {},
   "source": [
    "# Quantum Teleportation:\n",
    "Without going into much detail, let's discuss only a tricky part of this topic (where I stambled to be more specific!)\n",
    "\n",
    "Below are 4 Bell states which are maximally entangled and build on a orthogonal basis:\n",
    "- <ψ<sup>00</sup>> = $\\frac{1}{\\sqrt{2}}$ * (|00> + |11>)     \n",
    "- <ψ<sup>10</sup>> = $\\frac{1}{\\sqrt{2}}$ * (|00> - |11>)  \n",
    "- <ψ<sup>01</sup>> = $\\frac{1}{\\sqrt{2}}$ * (|01> + |10>)  \n",
    "- <ψ<sup>11</sup>> = $\\frac{1}{\\sqrt{2}}$ * (|01> - |10>)  \n",
    "\n",
    "\n",
    "So, the general state can be written as:  <ψ<sup>ij</sup>> = (I<sub>2</sub> $\\bigotimes$ $\\sigma$<sub>x</sub><sup>j</sup>> $\\sigma$<sub>z</sub><sup>i</sup>>) <ψ<sup>00</sup>> \n",
    "\n",
    "## Discussion\n",
    "\n",
    "Alice and Bob both shares a maximally entangled state. i.e: some <ψ<sup>ij</sup>> where i == j == 0 for our example ==> <ψ<sup>00</sup>><sub>AB</sub>\n",
    "\n",
    "Consider a qubit S that Alice possesses, which is in the following state:\n",
    "\n",
    "|$\\phi$⟩<sub>s</sub> = α|0⟩<sub>s</sub> +β|1⟩<sub>s</sub>\n",
    "\n",
    "The combined state of SAB:\n",
    "|$\\phi$⟩ $\\bigotimes$  <ψ<sup>00</sup>><sub>AB</sub> ==> <ψ<sup>ij</sup>><sub>AS</sub>&ensp;$\\sigma$<sub>x</sub><sup>j</sup> $\\sigma$<sub>z</sub><sup>i</sup>&ensp;|$\\phi$⟩<sub>B</sub>\n",
    " \n",
    "Alice performs a Bell measurement on her qubit of a shared state and the state she want to send to Bob. After measurment Alice's state AS will collapse to the one of the following states. (Note: this can be shown by re arranging the combined state of SAB, spaces are added for a better look and understanding): \n",
    "- <ψ<sup>00</sup>><sub>AS</sub>&ensp;$\\sigma$<sub>x</sub><sup>0</sup> $\\sigma$<sub>z</sub><sup>0</sup>&ensp;|$\\phi$⟩<sub>B</sub>\n",
    "- <ψ<sup>01</sup>><sub>AS</sub>&ensp;$\\sigma$<sub>x</sub><sup>1</sup> $\\sigma$<sub>z</sub><sup>0</sup>&ensp;|$\\phi$⟩<sub>B</sub>\n",
    "- <ψ<sup>10</sup>><sub>AS</sub>&ensp;$\\sigma$<sub>x</sub><sup>0</sup> $\\sigma$<sub>z</sub><sup>1</sup>&ensp;|$\\phi$⟩<sub>B</sub>\n",
    "- <ψ<sup>11</sup>><sub>AS</sub>&ensp;$\\sigma$<sub>x</sub><sup>1</sup> $\\sigma$<sub>z</sub><sup>1</sup>&ensp;|$\\phi$⟩<sub>B</sub>\n",
    "\n",
    "## Tricky part:\n",
    "- Bell measurement on Alice side gets performed on state A and S only\n",
    "- So, XOR with Hadamard on Alice's qubits will give her classical bits i and j (after Bell measurement on SA)\n",
    "- Apparently Bob's qubit's state can be describe using a general version ==>  $\\sigma$<sub>x</sub><sup>j</sup> $\\sigma$<sub>z</sub><sup>i</sup>&ensp;|$\\phi$⟩<sub>B</sub> (due to combined state of SAB)\n",
    "- Now, we have i and j, and Bob's state\n",
    "- After Bell measurement, Alice's state will get collapsed to one of the 4 possible states and Bob will get i and j values (Alice's both qubit gets destroyed, of course!)\n",
    "- After Bell measurement, Alice will know the exact values of i and j and set them to Bob\n",
    "- So, now Bob has i and j values (sent by Alice). In order to convert Bob's state to |$\\phi$⟩<sub>B</sub>, Bob requires to perform some calculation\n",
    "- Those calculations depends on the values of i and j (sent by Alice). Let's see Bob's state ==> $\\sigma$<sub>x</sub><sup>j</sup> $\\sigma$<sub>z</sub><sup>i</sup>&ensp;|$\\phi$⟩<sub>B</sub>\n",
    "- Bob will use i and j given by Alcie to convert his state to |$\\phi$⟩<sub>B</sub> \n",
    "- Why? Well, if we apply same gate twice, we will get the original state back i.e: |$\\phi$⟩<sub>B</sub>\n",
    "\n",
    "Let's start with our imports!"
   ]
  },
  {
   "cell_type": "code",
   "execution_count": 2,
   "id": "peripheral-crazy",
   "metadata": {},
   "outputs": [],
   "source": [
    "# Diable warnings:\n",
    "import warnings\n",
    "warnings.filterwarnings(action='ignore')\n",
    "\n",
    "from math import sqrt\n",
    "from qiskit import *\n",
    "from qiskit.tools.visualization import plot_histogram\n",
    "\n",
    "from matplotlib import style\n",
    "style.use('grayscale') # suitable for both JupyterLab themes"
   ]
  },
  {
   "cell_type": "markdown",
   "id": "official-rings",
   "metadata": {},
   "source": [
    "Alice wants to send the following state (unknown to her) to Bob's qubit:\n",
    "\n",
    "$\\sqrt{0.70}\\vert0\\rangle + \\sqrt{0.30}\\vert1\\rangle$\n",
    "\n",
    "The APIs we need to implement:\n",
    "- create_entanglement(q_circuit, alice_qubit, bob_qubit) --> Creates entanglement between Alice's and Bob's qubit\n",
    "- perform_bell_measurement(q_circuit, traveller_state_qubit, alice_entangled_qubit) --> Performs a Bell measurement on traveller_state_qubit and alice_entangled_qubit\n",
    "- perform_operation_on_bob_qubit(q_circuit, bob_qubit, i, j) --> Performs $\\sigma$<sub>x</sub><sup>j</sup> $\\sigma$<sub>z</sub><sup>i</sup> on Bob's qubit\n",
    "\n",
    "Now, let's implement these 3 APIs"
   ]
  },
  {
   "cell_type": "code",
   "execution_count": 3,
   "id": "sufficient-college",
   "metadata": {},
   "outputs": [],
   "source": [
    "def create_entanglement(q_circuit, alice_qubit, bob_qubit):\n",
    "    \"\"\"Creates entanglement between Alice's and Bob's qubit.\"\"\"\n",
    "    q_circuit.h(alice_qubit)\n",
    "    q_circuit.cx(control_qubit=alice_qubit, target_qubit=bob_qubit)\n",
    "    q_circuit.barrier()\n",
    "\n",
    "\n",
    "def perform_bell_measurement(q_circuit, traveller_state_qubit, alice_entangled_qubit, alice_cbit_s, alice_cbit_a):\n",
    "    \"\"\"Performs a Bell measurement on traveller_state_qubit and alice_entangled_qubit.\"\"\"\n",
    "    q_circuit.cx(control_qubit=traveller_state_qubit, target_qubit=alice_entangled_qubit)\n",
    "    q_circuit.h(traveller_state_qubit)\n",
    "    q_circuit.barrier()\n",
    "    q_circuit.measure(qubit=traveller_state_qubit, cbit=alice_cbit_s)\n",
    "    q_circuit.measure(qubit=alice_entangled_qubit, cbit=alice_cbit_a)\n",
    "    q_circuit.barrier()\n",
    "\n",
    "\n",
    "def perform_operation_on_bob_qubit(q_circuit, bob_qubit, creg_i, creg_j):\n",
    "    \"\"\"Apply sigma-X, sigma-Z gates on Bob's qubit depending on the values of i, j.\"\"\"\n",
    "    q_circuit.x(bob_qubit).c_if(creg_j, 1)\n",
    "    q_circuit.z(bob_qubit).c_if(creg_i, 1)\n",
    "    q_circuit.barrier()\n"
   ]
  },
  {
   "cell_type": "markdown",
   "id": "sacred-connectivity",
   "metadata": {},
   "source": [
    "Let's use above APIs and complete qunatum teleportation!"
   ]
  },
  {
   "cell_type": "code",
   "execution_count": 4,
   "id": "generous-incidence",
   "metadata": {},
   "outputs": [
    {
     "data": {
      "image/png": "[encoded data removed]",
      "text/plain": [
       "<Figure size 1047.29x385.28 with 1 Axes>"
      ]
     },
     "execution_count": 4,
     "metadata": {},
     "output_type": "execute_result"
    }
   ],
   "source": [
    "# Load q_circuit with all needed qregs and cregs\n",
    "alice_qreg = QuantumRegister(2, name='alice')\n",
    "alice_qubit_s = alice_qreg[0]\n",
    "alice_qubit_a= alice_qreg[1]\n",
    "\n",
    "alice_creg_s = ClassicalRegister(1, name='alice_c1')\n",
    "alice_creg_a = ClassicalRegister(1, name='alice_c2')\n",
    "\n",
    "bob_qreg = QuantumRegister(1, name='bob')\n",
    "bob_qubit_b = bob_qreg[0]\n",
    "\n",
    "bob_creg = ClassicalRegister(1, name='bob_c1')\n",
    "\n",
    "q_circuit = QuantumCircuit(alice_qreg, bob_qreg, alice_creg_s, alice_creg_a, bob_creg)\n",
    "\n",
    "# initialize traveller state in alice_qubit_s\n",
    "traveler_state = [sqrt(0.70), sqrt(0.30)]\n",
    "q_circuit.initialize(traveler_state, alice_qubit_s)\n",
    "q_circuit.barrier()\n",
    "\n",
    "\n",
    "# entangle\n",
    "create_entanglement(\n",
    "    q_circuit=q_circuit, \n",
    "    alice_qubit=alice_qubit_a, \n",
    "    bob_qubit=bob_qubit_b,\n",
    ")\n",
    "\n",
    "# Bell measurement\n",
    "perform_bell_measurement(\n",
    "    q_circuit=q_circuit,\n",
    "    traveller_state_qubit=alice_qubit_s,\n",
    "    alice_entangled_qubit=alice_qubit_a,\n",
    "    alice_cbit_s=alice_creg_s,\n",
    "    alice_cbit_a=alice_creg_a,\n",
    ")\n",
    "\n",
    "# operation on Bob's side depending on i and j\n",
    "perform_operation_on_bob_qubit(\n",
    "    q_circuit=q_circuit,\n",
    "    bob_qubit=bob_qubit_b,\n",
    "    creg_i=alice_creg_s,\n",
    "    creg_j=alice_creg_a,\n",
    ")\n",
    "\n",
    "q_circuit.draw('mpl')\n"
   ]
  },
  {
   "cell_type": "markdown",
   "id": "characteristic-reputation",
   "metadata": {},
   "source": [
    "Now, let's simulate our circuit on QASM simulator"
   ]
  },
  {
   "cell_type": "code",
   "execution_count": 5,
   "id": "hollywood-virus",
   "metadata": {},
   "outputs": [
    {
     "name": "stdout",
     "output_type": "stream",
     "text": [
      "{'0 0 0': 517, '0 0 1': 490, '0 1 0': 518, '0 1 1': 523}\n"
     ]
    },
    {
     "data": {
      "image/png": "[encoded data removed]",
      "text/plain": [
       "<Figure size 504x360 with 1 Axes>"
      ]
     },
     "execution_count": 5,
     "metadata": {},
     "output_type": "execute_result"
    }
   ],
   "source": [
    "qasm_simulator = Aer.get_backend(name='qasm_simulator')\n",
    "sv_simulator = Aer.get_backend(name='statevector_simulator')\n",
    "\n",
    "qasm_result = execute(\n",
    "    experiments=q_circuit,\n",
    "    backend=qasm_simulator,\n",
    "    shots=2048,\n",
    ").result()\n",
    "\n",
    "print(qasm_result.get_counts())\n",
    "plot_histogram(data=qasm_result.get_counts())"
   ]
  },
  {
   "cell_type": "markdown",
   "id": "specialized-sunset",
   "metadata": {},
   "source": [
    "Now, let's simulate our circuit on State Vector simulator"
   ]
  },
  {
   "cell_type": "code",
   "execution_count": 6,
   "id": "inner-thickness",
   "metadata": {},
   "outputs": [
    {
     "name": "stdout",
     "output_type": "stream",
     "text": [
      "Bob's state: [ 0.        +0.00000000e+00j -0.        +0.00000000e+00j\n",
      "  0.83666003+0.00000000e+00j  0.        +0.00000000e+00j\n",
      "  0.        +0.00000000e+00j  0.        +0.00000000e+00j\n",
      "  0.54772256-6.70766677e-17j -0.        +0.00000000e+00j]\n"
     ]
    },
    {
     "data": {
      "image/png": "[encoded data removed]",
      "text/plain": [
       "<Figure size 504x360 with 1 Axes>"
      ]
     },
     "execution_count": 6,
     "metadata": {},
     "output_type": "execute_result"
    }
   ],
   "source": [
    "# q_circuit.measure(qubit=bob_qubit_b, cbit=bob_creg)\n",
    "sv_simulator = Aer.get_backend(name='statevector_simulator')\n",
    "\n",
    "sv_result = execute(\n",
    "    experiments=q_circuit,\n",
    "    backend=sv_simulator,\n",
    "    shots=2048,\n",
    ").result()\n",
    "\n",
    "print(\"Bob's state:\", sv_result.get_statevector())\n",
    "plot_histogram(data=sv_result.get_counts())"
   ]
  },
  {
   "cell_type": "code",
   "execution_count": null,
   "id": "challenging-hypothetical",
   "metadata": {},
   "outputs": [],
   "source": []
  }
 ],
 "metadata": {
  "kernelspec": {
   "display_name": "Python 3",
   "language": "python",
   "name": "python3"
  },
  "language_info": {
   "codemirror_mode": {
    "name": "ipython",
    "version": 3
   },
   "file_extension": ".py",
   "mimetype": "text/x-python",
   "name": "python",
   "nbconvert_exporter": "python",
   "pygments_lexer": "ipython3",
   "version": "3.8.0"
  }
 },
 "nbformat": 4,
 "nbformat_minor": 5
}
