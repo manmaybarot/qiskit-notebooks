{
 "cells": [
  {
   "cell_type": "markdown",
   "id": "electronic-tennis",
   "metadata": {},
   "source": [
    "## State vectors:"
   ]
  },
  {
   "cell_type": "markdown",
   "id": "european-titanium",
   "metadata": {},
   "source": [
    "Import required libraries:\n",
    "\n",
    "Importing all required libraries at in the first cell is usually a best practice!!\n",
    "note: we can just ignore (if any) numpy deprecation warnings on during a first run of imports in a kernel. "
   ]
  },
  {
   "cell_type": "code",
   "execution_count": 2,
   "id": "clean-pasta",
   "metadata": {},
   "outputs": [],
   "source": [
    "# Diable warnings (if any):\n",
    "import warnings\n",
    "warnings.filterwarnings(action='ignore')\n",
    "\n",
    "from qiskit import QuantumCircuit, QuantumRegister, execute, Aer, ClassicalRegister\n",
    "from qiskit.quantum_info import Statevector\n",
    "from qiskit.quantum_info import state_fidelity\n"
   ]
  },
  {
   "cell_type": "code",
   "execution_count": 12,
   "id": "threatened-feedback",
   "metadata": {},
   "outputs": [],
   "source": [
    "sv0 = Statevector.from_label('0') # |0>, up\n",
    "sv1 = Statevector.from_label('1') # |1>, down\n",
    "\n",
    "sv_plus = Statevector.from_label('+') # |+>, out\n",
    "sv_minus = Statevector.from_label('-') # |->, in\n",
    "\n",
    "sv_plus_i = Statevector.from_label('r') # |+i>, right\n",
    "sv_minus_i = Statevector.from_label('l')  # |-i>, left\n",
    "\n",
    "# above comment-descriptions are based on Bloch's sphere!\n",
    "# help(Statevector.from_label)"
   ]
  },
  {
   "cell_type": "markdown",
   "id": "distant-standing",
   "metadata": {},
   "source": [
    "## Projection of $\\beta$ on $\\alpha$:\n",
    "Probablity of 𝛽 to collapse over 𝛼 during a measurement."
   ]
  },
  {
   "cell_type": "code",
   "execution_count": 13,
   "id": "ultimate-architect",
   "metadata": {},
   "outputs": [
    {
     "name": "stdout",
     "output_type": "stream",
     "text": [
      "1.0\n",
      "0.0\n"
     ]
    }
   ],
   "source": [
    "# state_fidelity(𝛼, 𝛽)\n",
    "\n",
    "print(state_fidelity(sv0, sv0)) # ==> 1.0 e.g: 100%\n",
    "print(state_fidelity(sv0, sv1)) # ==> 0.0 e.g: 0% (orthogonal)\n"
   ]
  },
  {
   "cell_type": "markdown",
   "id": "subjective-tennessee",
   "metadata": {},
   "source": [
    "## Create quantum circuit with n qubit(s):"
   ]
  },
  {
   "cell_type": "code",
   "execution_count": 14,
   "id": "foreign-grave",
   "metadata": {},
   "outputs": [
    {
     "data": {
      "image/png": "[encoded data removed]",
      "text/plain": [
       "<Figure size 86.5974x325.08 with 1 Axes>"
      ]
     },
     "execution_count": 14,
     "metadata": {},
     "output_type": "execute_result"
    }
   ],
   "source": [
    "n = 5 # we will create 5 different quantum circuits different gate in each circuit\n",
    "\n",
    "# let's create a list. So that, we can easily refer to out circuit later on.\n",
    "qubit = {}\n",
    "for qubit_id in range(n):\n",
    "    qubit[f'q{qubit_id}'] = qubit_id\n",
    "\n",
    "q5_circuit = QuantumCircuit(n) # circuit with 5 qubits\n",
    "\n",
    "q5_circuit.draw('mpl') # mat plot lib?!?"
   ]
  },
  {
   "cell_type": "markdown",
   "id": "handled-completion",
   "metadata": {},
   "source": [
    "### Let's add a gate to our circuit for a sigle qubit:\n",
    "- We aren't at multi-qubit discussion yet!\n",
    "- Pauli-X operations: Flip a qubit"
   ]
  },
  {
   "cell_type": "code",
   "execution_count": 15,
   "id": "native-berry",
   "metadata": {},
   "outputs": [
    {
     "data": {
      "image/png": "[encoded data removed]",
      "text/plain": [
       "<Figure size 133.526x84.28 with 1 Axes>"
      ]
     },
     "execution_count": 15,
     "metadata": {},
     "output_type": "execute_result"
    }
   ],
   "source": [
    "q1_circuit = QuantumCircuit(1)\n",
    "q1_circuit.x(qubit=qubit['q0'])\n",
    "q1_circuit.draw('mpl')"
   ]
  },
  {
   "cell_type": "code",
   "execution_count": 16,
   "id": "jewish-confidentiality",
   "metadata": {},
   "outputs": [
    {
     "name": "stdout",
     "output_type": "stream",
     "text": [
      "Before X gate:\n",
      "sv0: Statevector([1.+0.j, 0.+0.j],\n",
      "            dims=(2,))\n",
      "sv1: Statevector([0.+0.j, 1.+0.j],\n",
      "            dims=(2,))\n",
      "After X gate:\n",
      "sv0: Statevector([0.+0.j, 1.+0.j],\n",
      "            dims=(2,))\n",
      "sv1: Statevector([1.+0.j, 0.+0.j],\n",
      "            dims=(2,))\n"
     ]
    }
   ],
   "source": [
    "print('Before X gate:')\n",
    "print('sv0:', sv0)\n",
    "print('sv1:', sv1)\n",
    "\n",
    "sv0 = sv0.evolve(q1_circuit)\n",
    "sv1 = sv1.evolve(q1_circuit)\n",
    "\n",
    "print('After X gate:')\n",
    "print('sv0:', sv0)\n",
    "print('sv1:', sv1)"
   ]
  },
  {
   "cell_type": "markdown",
   "id": "aquatic-former",
   "metadata": {},
   "source": [
    "- Pauli-Z operations: Flip a phase"
   ]
  },
  {
   "cell_type": "code",
   "execution_count": 17,
   "id": "rotary-greenhouse",
   "metadata": {},
   "outputs": [
    {
     "data": {
      "image/png": "[encoded data removed]",
      "text/plain": [
       "<Figure size 133.526x84.28 with 1 Axes>"
      ]
     },
     "execution_count": 17,
     "metadata": {},
     "output_type": "execute_result"
    }
   ],
   "source": [
    "q1_circuit = QuantumCircuit(1)\n",
    "q1_circuit.z(qubit=qubit['q0'])\n",
    "q1_circuit.draw('mpl')"
   ]
  },
  {
   "cell_type": "code",
   "execution_count": 18,
   "id": "medical-mistake",
   "metadata": {},
   "outputs": [
    {
     "name": "stdout",
     "output_type": "stream",
     "text": [
      "Before Z gate:\n",
      "sv_plus: Statevector([0.70710678+0.j, 0.70710678+0.j],\n",
      "            dims=(2,))\n",
      "sv_minus: Statevector([ 0.70710678+0.j, -0.70710678+0.j],\n",
      "            dims=(2,))\n",
      "After Z gate:\n",
      "sv_plus: Statevector([ 0.70710678+0.j, -0.70710678+0.j],\n",
      "            dims=(2,))\n",
      "sv_minus: Statevector([0.70710678+0.j, 0.70710678+0.j],\n",
      "            dims=(2,))\n"
     ]
    }
   ],
   "source": [
    "print('Before Z gate:')\n",
    "print('sv_plus:', sv_plus)\n",
    "print('sv_minus:', sv_minus)\n",
    "\n",
    "sv_plus = sv_plus.evolve(q1_circuit)\n",
    "sv_minus = sv_minus.evolve(q1_circuit)\n",
    "\n",
    "print('After Z gate:')\n",
    "print('sv_plus:', sv_plus)\n",
    "print('sv_minus:', sv_minus)"
   ]
  },
  {
   "cell_type": "markdown",
   "id": "governing-sustainability",
   "metadata": {},
   "source": [
    "- Similarly, Pauli-Y (flip qubit & phase), Hadamand-H  (creates superposition), and S (adds 90-degree to phase) gates can be added!"
   ]
  },
  {
   "cell_type": "markdown",
   "id": "biblical-morris",
   "metadata": {},
   "source": [
    "## Quantum Circuit using registers"
   ]
  },
  {
   "cell_type": "code",
   "execution_count": 12,
   "id": "adverse-rebel",
   "metadata": {},
   "outputs": [
    {
     "data": {
      "image/png": "[encoded data removed]",
      "text/plain": [
       "<Figure size 86.5974x144.48 with 1 Axes>"
      ]
     },
     "execution_count": 12,
     "metadata": {},
     "output_type": "execute_result"
    }
   ],
   "source": [
    "q_reg = QuantumRegister(1)\n",
    "c_reg = ClassicalRegister(1)\n",
    "q_circuit = QuantumCircuit(q_reg, c_reg)\n",
    "\n",
    "q_circuit.draw('mpl')"
   ]
  },
  {
   "cell_type": "code",
   "execution_count": 13,
   "id": "upset-stack",
   "metadata": {},
   "outputs": [
    {
     "data": {
      "image/png": "[encoded data removed]",
      "text/plain": [
       "<Figure size 146.797x144.48 with 1 Axes>"
      ]
     },
     "execution_count": 13,
     "metadata": {},
     "output_type": "execute_result"
    }
   ],
   "source": [
    "q_circuit.z(q_reg[0])\n",
    "\n",
    "q_circuit.draw('mpl')"
   ]
  },
  {
   "cell_type": "markdown",
   "id": "social-edinburgh",
   "metadata": {},
   "source": [
    "## Let's see result in a State Vector simulator"
   ]
  },
  {
   "cell_type": "code",
   "execution_count": 14,
   "id": "cloudy-breathing",
   "metadata": {},
   "outputs": [],
   "source": [
    "sv_backend = Aer.get_backend(name='statevector_simulator')\n",
    "\n",
    "result = execute(experiments=q_circuit, backend=sv_backend).result()"
   ]
  },
  {
   "cell_type": "code",
   "execution_count": 15,
   "id": "proud-developer",
   "metadata": {},
   "outputs": [
    {
     "data": {
      "text/plain": [
       "array([ 1.+0.j, -0.+0.j])"
      ]
     },
     "execution_count": 15,
     "metadata": {},
     "output_type": "execute_result"
    }
   ],
   "source": [
    "state_vector = result.get_statevector()\n",
    "\n",
    "state_vector"
   ]
  }
 ],
 "metadata": {
  "kernelspec": {
   "display_name": "Python 3",
   "language": "python",
   "name": "python3"
  },
  "language_info": {
   "codemirror_mode": {
    "name": "ipython",
    "version": 3
   },
   "file_extension": ".py",
   "mimetype": "text/x-python",
   "name": "python",
   "nbconvert_exporter": "python",
   "pygments_lexer": "ipython3",
   "version": "3.8.0"
  }
 },
 "nbformat": 4,
 "nbformat_minor": 5
}
