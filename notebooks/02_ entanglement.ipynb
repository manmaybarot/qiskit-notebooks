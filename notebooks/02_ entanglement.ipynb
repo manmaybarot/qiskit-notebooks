{
 "cells": [
  {
   "cell_type": "markdown",
   "id": "compliant-boards",
   "metadata": {},
   "source": [
    "# Entanglement Tutorial:\n",
    "\n",
    "Importing all required libraries at in the first cell is usually a best practice!!\n",
    "note: we can just ignore (if any) numpy deprecation warnings on during a first run of imports in a kernel. "
   ]
  },
  {
   "cell_type": "code",
   "execution_count": 2,
   "id": "positive-version",
   "metadata": {},
   "outputs": [],
   "source": [
    "# Diable warnings:\n",
    "import warnings\n",
    "warresultfilterwarnings(action='ignore')\n",
    "\n",
    "from qiskit import *\n",
    "from qiskit.tools.visualization import plot_histogram\n",
    "from qiskit.tools.monitor import job_monitor\n",
    "\n",
    "from matplotlib import style\n",
    "style.use('grayscale') # suitable for both JupyterLab themes"
   ]
  },
  {
   "cell_type": "markdown",
   "id": "pointed-reserve",
   "metadata": {},
   "source": [
    "#### Let's build a 2 quibit quantum circuit using a 2 qubit qunatum register and a 2 bit classical register\n",
    "size: number of bit/qubits\n",
    "\n",
    "name: name register/circuit"
   ]
  },
  {
   "cell_type": "code",
   "execution_count": 3,
   "id": "exotic-bridge",
   "metadata": {},
   "outputs": [
    {
     "data": {
      "image/png": "[encoded data removed]",
      "text/plain": [
       "<Figure size 86.452x204.68 with 1 Axes>"
      ]
     },
     "execution_count": 3,
     "metadata": {},
     "output_type": "execute_result"
    }
   ],
   "source": [
    "n = 2 # no of cbits and qubits\n",
    "\n",
    "c_reg = ClassicalRegister(size=n, name='c')\n",
    "q_reg = QuantumRegister(size=n, name='q')\n",
    "\n",
    "q_circuit = QuantumCircuit(q_reg, c_reg)\n",
    "\n",
    "q_circuit.draw('mpl')"
   ]
  },
  {
   "cell_type": "markdown",
   "id": "outstanding-restoration",
   "metadata": {},
   "source": [
    "## Let's create an entanglement\n",
    "First we need to add a Hadamard gate to our first qubit. If there are n qubits in a register, we can access them usign their indeces starting from 0\n",
    "e.i: first qubit of `q_reg` would be `q_reg[0]`\n",
    "\n",
    "\n",
    "Hadamard gate creates superposition (used to change states between X and Z bases) i.e: `H|0> = |+>` and `H|1> = |->` also, `H|+> =|0>` and `H|-> =|1>` \n",
    "\n",
    "\n",
    "Then, we need to apply a Controlled Not (CNOT) beween q0 and q1, controlled on a first qubit of q_reg (q0) i.e: q_reg[0]\n",
    "\n",
    "Note: Try out `print(help(QuantumCircuit().cx))` and  `print(help(QuantumCircuit().cnot))`"
   ]
  },
  {
   "cell_type": "code",
   "execution_count": 4,
   "id": "automated-output",
   "metadata": {},
   "outputs": [
    {
     "data": {
      "image/png": "[encoded data removed]",
      "text/plain": [
       "<Figure size 206.852x204.68 with 1 Axes>"
      ]
     },
     "execution_count": 4,
     "metadata": {},
     "output_type": "execute_result"
    }
   ],
   "source": [
    "q_circuit.h(qubit=q_reg[0])\n",
    "q_circuit.cx(control_qubit=q_reg[0], target_qubit=q_reg[1])\n",
    "\n",
    "q_circuit.draw('mpl')"
   ]
  },
  {
   "cell_type": "markdown",
   "id": "editorial-entrepreneur",
   "metadata": {},
   "source": [
    "We have created an entanglement between q0 and q1. Now, let's measure q0 and q1 and store them into our classical bits. We can do this by measuring our quantum circuit. \n",
    "\n",
    "i.e: measuring q_reg and store in c_reg"
   ]
  },
  {
   "cell_type": "code",
   "execution_count": 5,
   "id": "taken-comparison",
   "metadata": {},
   "outputs": [
    {
     "data": {
      "image/png": "[encoded data removed]",
      "text/plain": [
       "<Figure size 327.252x204.68 with 1 Axes>"
      ]
     },
     "execution_count": 5,
     "metadata": {},
     "output_type": "execute_result"
    }
   ],
   "source": [
    "q_circuit.measure(qubit=q_reg, cbit=c_reg)\n",
    "\n",
    "q_circuit.draw('mpl')"
   ]
  },
  {
   "cell_type": "markdown",
   "id": "ambient-brush",
   "metadata": {},
   "source": [
    "## Let's run our q_circuit\n",
    "\n",
    "### Simulate circuit:\n",
    "Qiskit Aer is used to simulate the quantum computer on a classical computer. Let's first run our q_circuit on the Aer simlulator! \n",
    "\n",
    "We will use the QASM simulator to simulate the quantum computer. QASM stands for Quantum Assembly Language.\n",
    "\n",
    "-Qiskit Aer currently includes following three high performance simulator backends:\n",
    "\n",
    "- `QasmSimulator`: Allows ideal and noisy multi-shot execution of qiskit circuits and returns counts or memory. backend_name='qasm_simulator'\n",
    "\n",
    "- `StatevectorSimulator`: Allows ideal single-shot execution of qiskit circuits and returns the final statevector of the simulator after application. backend_name='statevector_simulator'\n",
    "\n",
    "- `UnitarySimulator`: Allows ideal single-shot execution of qiskit circuits and returns the final unitary matrix of the circuit itself. Note that the circuit cannot contain measure or reset operations for this backend. backend_name='unitary_simulator'\n",
    "\n",
    "Try out: print(Aer.backends())\n",
    "\n",
    "Reference: https://qiskit.org/documentation/tutorials/simulators/1_aer_provider.html"
   ]
  },
  {
   "cell_type": "code",
   "execution_count": 6,
   "id": "current-vatican",
   "metadata": {},
   "outputs": [],
   "source": [
    "qasm_simulator = Aer.get_backend(name='qasm_simulator')\n",
    "\n",
    "result = execute(experiments=q_circuit, backend=qasm_simulator).result()"
   ]
  },
  {
   "cell_type": "markdown",
   "id": "broadband-discharge",
   "metadata": {},
   "source": [
    "Let's visualize results."
   ]
  },
  {
   "cell_type": "code",
   "execution_count": 7,
   "id": "advance-butterfly",
   "metadata": {},
   "outputs": [
    {
     "data": {
      "image/png": "[encoded data removed]",
      "text/plain": [
       "<Figure size 504x360 with 1 Axes>"
      ]
     },
     "execution_count": 7,
     "metadata": {},
     "output_type": "execute_result"
    }
   ],
   "source": [
    "plot_histogram(data=result.get_counts(q_circuit))"
   ]
  },
  {
   "cell_type": "markdown",
   "id": "mediterranean-leonard",
   "metadata": {},
   "source": [
    "### Send the circuit to a real quantum device at IBM\n",
    "Now we run our circuit on the IBMQ!"
   ]
  },
  {
   "cell_type": "code",
   "execution_count": 8,
   "id": "annual-animal",
   "metadata": {},
   "outputs": [
    {
     "data": {
      "text/plain": [
       "<AccountProvider for IBMQ(hub='ibm-q', group='open', project='main')>"
      ]
     },
     "execution_count": 8,
     "metadata": {},
     "output_type": "execute_result"
    }
   ],
   "source": [
    "# set IBMQ token if you have not set previously in your machine\n",
    "# from qiskit import IBMQ\n",
    "# IBMQ.save_account('your_token', overwrite=True)\n",
    "\n",
    "# load account\n",
    "IBMQ.load_account()"
   ]
  },
  {
   "cell_type": "code",
   "execution_count": 9,
   "id": "italian-hundred",
   "metadata": {},
   "outputs": [],
   "source": [
    "provider = IBMQ.get_provider('ibm-q')\n",
    "q_comp = provider.get_backend(name='ibmq_quito') # we can see our available access at https://quantum-computing.ibm.com/?system\n",
    "\n",
    "job = execute(experiments=q_circuit, backend=q_comp)"
   ]
  },
  {
   "cell_type": "code",
   "execution_count": 10,
   "id": "breathing-dinner",
   "metadata": {},
   "outputs": [
    {
     "name": "stdout",
     "output_type": "stream",
     "text": [
      "Job Status: job has successfully run\n"
     ]
    }
   ],
   "source": [
    "job_monitor(job)"
   ]
  },
  {
   "cell_type": "code",
   "execution_count": 11,
   "id": "sweet-month",
   "metadata": {},
   "outputs": [
    {
     "data": {
      "image/png": "[encoded data removed]",
      "text/plain": [
       "<Figure size 504x360 with 1 Axes>"
      ]
     },
     "execution_count": 11,
     "metadata": {},
     "output_type": "execute_result"
    }
   ],
   "source": [
    "result = job.result()\n",
    "\n",
    "plot_histogram(data=result.get_counts(q_circuit))"
   ]
  },
  {
   "cell_type": "code",
   "execution_count": null,
   "id": "diagnostic-session",
   "metadata": {},
   "outputs": [],
   "source": []
  }
 ],
 "metadata": {
  "kernelspec": {
   "display_name": "Python 3",
   "language": "python",
   "name": "python3"
  },
  "language_info": {
   "codemirror_mode": {
    "name": "ipython",
    "version": 3
   },
   "file_extension": ".py",
   "mimetype": "text/x-python",
   "name": "python",
   "nbconvert_exporter": "python",
   "pygments_lexer": "ipython3",
   "version": "3.8.0"
  }
 },
 "nbformat": 4,
 "nbformat_minor": 5
}
